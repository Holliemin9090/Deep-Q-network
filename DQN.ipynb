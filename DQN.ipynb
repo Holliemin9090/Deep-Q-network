{
 "cells": [
  {
   "cell_type": "code",
   "execution_count": 1,
   "metadata": {},
   "outputs": [
    {
     "name": "stderr",
     "output_type": "stream",
     "text": [
      "/Users/tim/anaconda2/lib/python2.7/site-packages/h5py/__init__.py:34: FutureWarning: Conversion of the second argument of issubdtype from `float` to `np.floating` is deprecated. In future, it will be treated as `np.float64 == np.dtype(float).type`.\n",
      "  from ._conv import register_converters as _register_converters\n",
      "Using TensorFlow backend.\n"
     ]
    }
   ],
   "source": [
    "import random\n",
    "import gym\n",
    "import numpy as np\n",
    "from collections import deque\n",
    "from keras.models import Sequential\n",
    "from keras.layers import Dense, Activation, Flatten, Conv2D, MaxPooling2D\n",
    "from keras.optimizers import Adadelta"
   ]
  },
  {
   "cell_type": "markdown",
   "metadata": {},
   "source": [
    "# Agent"
   ]
  },
  {
   "cell_type": "code",
   "execution_count": 2,
   "metadata": {
    "collapsed": true
   },
   "outputs": [],
   "source": [
    "class DQN_Agent:\n",
    "    #\n",
    "    # Initializes attributes and constructs CNN model and target_model\n",
    "    #\n",
    "    def __init__(self, state_size, action_size):\n",
    "        self.state_size = state_size\n",
    "        self.action_size = action_size\n",
    "        self.memory = deque(maxlen=20000)\n",
    "        \n",
    "        # Hyperparameters\n",
    "        self.gamma = 0.9            # Discount rate\n",
    "        self.epsilon = 1.0          # Exploration rate\n",
    "        self.epsilon_min = 0.1      # Minimal exploration rate (epsilon-greedy)\n",
    "        self.epsilon_decay = 0.995  # Decay rate for epsilon\n",
    "        self.update_rate = 10000    # number of steps until updating the target network\n",
    "        \n",
    "        # Construct DQN models\n",
    "        self.model = self._build_model()\n",
    "        self.target_model = self._build_model()\n",
    "        self.target_model.set_weights(self.model.get_weights())\n",
    "        self.model.summary()\n",
    "\n",
    "    #\n",
    "    # Constructs CNN\n",
    "    #\n",
    "    def _build_model(self):\n",
    "        model = Sequential()\n",
    "        \n",
    "        # Conv Layers\n",
    "        model.add(Conv2D(32, (8, 8), strides=4, padding='same', input_shape=self.state_size))\n",
    "        model.add(Activation('relu'))\n",
    "        \n",
    "        model.add(Conv2D(64, (4, 4), strides=2, padding='same'))\n",
    "        model.add(Activation('relu'))\n",
    "        \n",
    "        model.add(Conv2D(64, (3, 3), strides=1, padding='same'))\n",
    "        model.add(Activation('relu'))\n",
    "        model.add(Flatten())\n",
    "\n",
    "        # FC Layers\n",
    "        model.add(Dense(512, activation='relu'))\n",
    "        model.add(Dense(self.action_size, activation='linear'))\n",
    "        \n",
    "        model.compile(loss='mse', optimizer=Adadelta())\n",
    "        return model\n",
    "\n",
    "    #\n",
    "    # Stores experience in replay memory\n",
    "    #\n",
    "    def remember(self, state, action, reward, next_state, done):\n",
    "        self.memory.append((state, action, reward, next_state, done))\n",
    "\n",
    "    #\n",
    "    # Chooses action based on epsilon-greedy policy\n",
    "    #\n",
    "    def act(self, state):\n",
    "        # Random exploration\n",
    "        if np.random.rand() <= self.epsilon:\n",
    "            return random.randrange(self.action_size)\n",
    "        \n",
    "        act_values = self.model.predict(state)\n",
    "        \n",
    "        return np.argmax(act_values[0])  # Returns action using policy\n",
    "\n",
    "    #\n",
    "    # Trains the model using randomly selected experiences in the replay memory\n",
    "    #\n",
    "    def replay(self, batch_size):\n",
    "        minibatch = random.sample(self.memory, batch_size)\n",
    "        \n",
    "        for state, action, reward, next_state, done in minibatch:\n",
    "            \n",
    "            if not done:\n",
    "                target = (reward + self.gamma * np.amax(self.target_model.predict(next_state)))\n",
    "            else:\n",
    "                target = reward\n",
    "                \n",
    "            # Construct the target vector as follows:\n",
    "            # 1. Use the current model to output the Q-value predictions\n",
    "            target_f = self.model.predict(state)\n",
    "            \n",
    "            # 2. Rewrite the chosen action value with the computed target\n",
    "            target_f[0][action] = target\n",
    "            \n",
    "            # 3. Use vectors in the objective computation\n",
    "            self.model.fit(state, target_f, epochs=1, verbose=0)\n",
    "            \n",
    "        if self.epsilon > self.epsilon_min:\n",
    "            self.epsilon *= self.epsilon_decay\n",
    "\n",
    "    #\n",
    "    # Sets the target model parameters to the current model parameters\n",
    "    #\n",
    "    def update_target_model(self):\n",
    "        self.target_model.set_weights(self.model.get_weights())\n",
    "            \n",
    "    #\n",
    "    # Loads a saved model\n",
    "    #\n",
    "    def load(self, name):\n",
    "        self.model.load_weights(name)\n",
    "\n",
    "    #\n",
    "    # Saves parameters of a trained model\n",
    "    #\n",
    "    def save(self, name):\n",
    "        self.model.save_weights(name)"
   ]
  },
  {
   "cell_type": "markdown",
   "metadata": {},
   "source": [
    "# Preprocessing"
   ]
  },
  {
   "cell_type": "code",
   "execution_count": 3,
   "metadata": {
    "collapsed": true
   },
   "outputs": [],
   "source": [
    "# Helpful preprocessing taken from github.com/ageron/tiny-dqn\n",
    "def process_frame(frame):\n",
    "    mspacman_color = np.array([210, 164, 74]).mean()\n",
    "    img = frame[1:176:2, ::2] # crop and downsize\n",
    "    img = img.mean(axis=2) # to greyscale\n",
    "    img[img==mspacman_color] = 0 # Improve contrast\n",
    "    img = (img - 128) / 128 - 1 # normalize from -1. to 1.\n",
    "    return img.reshape(88, 80, 1)"
   ]
  },
  {
   "cell_type": "markdown",
   "metadata": {},
   "source": [
    "# Environment"
   ]
  },
  {
   "cell_type": "code",
   "execution_count": 4,
   "metadata": {},
   "outputs": [
    {
     "name": "stdout",
     "output_type": "stream",
     "text": [
      "_________________________________________________________________\n",
      "Layer (type)                 Output Shape              Param #   \n",
      "=================================================================\n",
      "conv2d_1 (Conv2D)            (None, 22, 20, 32)        2080      \n",
      "_________________________________________________________________\n",
      "activation_1 (Activation)    (None, 22, 20, 32)        0         \n",
      "_________________________________________________________________\n",
      "conv2d_2 (Conv2D)            (None, 11, 10, 64)        32832     \n",
      "_________________________________________________________________\n",
      "activation_2 (Activation)    (None, 11, 10, 64)        0         \n",
      "_________________________________________________________________\n",
      "conv2d_3 (Conv2D)            (None, 11, 10, 64)        36928     \n",
      "_________________________________________________________________\n",
      "activation_3 (Activation)    (None, 11, 10, 64)        0         \n",
      "_________________________________________________________________\n",
      "flatten_1 (Flatten)          (None, 7040)              0         \n",
      "_________________________________________________________________\n",
      "dense_1 (Dense)              (None, 512)               3604992   \n",
      "_________________________________________________________________\n",
      "dense_2 (Dense)              (None, 9)                 4617      \n",
      "=================================================================\n",
      "Total params: 3,681,449\n",
      "Trainable params: 3,681,449\n",
      "Non-trainable params: 0\n",
      "_________________________________________________________________\n"
     ]
    }
   ],
   "source": [
    "env = gym.make('MsPacman-v0')\n",
    "state_size = (88, 80, 1)\n",
    "action_size = env.action_space.n\n",
    "agent = DQN_Agent(state_size, action_size)\n",
    "\n",
    "episodes = 500\n",
    "batch_size = 16\n",
    "skip_start = 90  # MsPacman-v0 waits for 90 actions before the episode begins\n",
    "total_time = 0   # Counter for total number of steps taken\n",
    "done = False"
   ]
  },
  {
   "cell_type": "code",
   "execution_count": null,
   "metadata": {
    "scrolled": false
   },
   "outputs": [
    {
     "name": "stdout",
     "output_type": "stream",
     "text": [
      "episode: 1/500, reward: 370.0, time: 698, e: 0.099682\n",
      "episode: 2/500, reward: 230.0, time: 597, e: 0.099682\n",
      "episode: 3/500, reward: 200.0, time: 575, e: 0.099682\n",
      "episode: 4/500, reward: 120.0, time: 440, e: 0.099682\n",
      "episode: 5/500, reward: 250.0, time: 473, e: 0.099682\n",
      "episode: 6/500, reward: 370.0, time: 775, e: 0.099682\n",
      "episode: 7/500, reward: 150.0, time: 387, e: 0.099682\n",
      "episode: 8/500, reward: 150.0, time: 302, e: 0.099682\n",
      "episode: 9/500, reward: 330.0, time: 626, e: 0.099682\n",
      "episode: 10/500, reward: 1160.0, time: 1020, e: 0.099682\n",
      "episode: 11/500, reward: 380.0, time: 731, e: 0.099682\n",
      "episode: 12/500, reward: 230.0, time: 520, e: 0.099682\n",
      "episode: 13/500, reward: 270.0, time: 697, e: 0.099682\n",
      "episode: 14/500, reward: 360.0, time: 594, e: 0.099682\n",
      "episode: 15/500, reward: 320.0, time: 394, e: 0.099682\n",
      "episode: 16/500, reward: 100.0, time: 349, e: 0.099682\n",
      "episode: 17/500, reward: 280.0, time: 475, e: 0.099682\n",
      "episode: 18/500, reward: 180.0, time: 328, e: 0.099682\n",
      "episode: 19/500, reward: 250.0, time: 436, e: 0.099682\n",
      "episode: 20/500, reward: 520.0, time: 839, e: 0.099682\n",
      "episode: 21/500, reward: 170.0, time: 396, e: 0.099682\n"
     ]
    }
   ],
   "source": [
    "for e in range(episodes):\n",
    "    total_reward = 0\n",
    "    state = process_frame(env.reset())\n",
    "    state = np.expand_dims(state, axis=0)\n",
    "    \n",
    "    for skip in range(skip_start): # skip the start of each game\n",
    "        env.step(0)\n",
    "    \n",
    "    for time in range(20000):\n",
    "        total_time += 1\n",
    "        \n",
    "        # Every update_rate timesteps we update the target network\n",
    "        if total_time % agent.update_rate == 0:\n",
    "            agent.update_target_model()\n",
    "        \n",
    "        env.render()\n",
    "        \n",
    "        # Transition Dynamics\n",
    "        action = agent.act(state)\n",
    "        next_state, reward, done, _ = env.step(action)\n",
    "        next_state = np.expand_dims(process_frame(next_state), axis=0)\n",
    "        \n",
    "        agent.remember(state, action, reward, next_state, done)\n",
    "        state = next_state\n",
    "        total_reward += reward\n",
    "        \n",
    "        if done:\n",
    "            print(\"episode: {}/{}, reward: {}, time: {}, total transitions: {}\"\n",
    "                  .format(e+1, episodes, total_reward, time, total_time))\n",
    "            break\n",
    "            \n",
    "        if len(agent.memory) > batch_size:\n",
    "            agent.replay(batch_size)"
   ]
  },
  {
   "cell_type": "code",
   "execution_count": null,
   "metadata": {
    "collapsed": true
   },
   "outputs": [],
   "source": [
    "agent.save()"
   ]
  }
 ],
 "metadata": {
  "kernelspec": {
   "display_name": "Python 2",
   "language": "python",
   "name": "python2"
  },
  "language_info": {
   "codemirror_mode": {
    "name": "ipython",
    "version": 2
   },
   "file_extension": ".py",
   "mimetype": "text/x-python",
   "name": "python",
   "nbconvert_exporter": "python",
   "pygments_lexer": "ipython2",
   "version": "2.7.14"
  }
 },
 "nbformat": 4,
 "nbformat_minor": 2
}
