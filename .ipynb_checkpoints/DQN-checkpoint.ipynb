{
 "cells": [
  {
   "cell_type": "code",
   "execution_count": 1,
   "metadata": {},
   "outputs": [
    {
     "name": "stderr",
     "output_type": "stream",
     "text": [
      "/Users/tim/anaconda2/lib/python2.7/site-packages/h5py/__init__.py:34: FutureWarning: Conversion of the second argument of issubdtype from `float` to `np.floating` is deprecated. In future, it will be treated as `np.float64 == np.dtype(float).type`.\n",
      "  from ._conv import register_converters as _register_converters\n",
      "Using TensorFlow backend.\n"
     ]
    }
   ],
   "source": [
    "import random\n",
    "import gym\n",
    "import numpy as np\n",
    "from collections import deque\n",
    "from keras.models import Sequential\n",
    "from keras.layers import Dense, Activation, Flatten, Conv2D, MaxPooling2D\n",
    "from keras.optimizers import Adam"
   ]
  },
  {
   "cell_type": "markdown",
   "metadata": {},
   "source": [
    "# Agent"
   ]
  },
  {
   "cell_type": "code",
   "execution_count": 2,
   "metadata": {
    "collapsed": true
   },
   "outputs": [],
   "source": [
    "class DQN_Agent:\n",
    "    #\n",
    "    # Initializes attributes and constructs CNN model and target_model\n",
    "    #\n",
    "    def __init__(self, state_size, action_size):\n",
    "        self.state_size = state_size\n",
    "        self.action_size = action_size\n",
    "        self.memory = deque(maxlen=2000)\n",
    "        \n",
    "        # Hyperparameters\n",
    "        self.gamma = 0.9            # Discount rate\n",
    "        self.epsilon = 1.0          # Exploration rate\n",
    "        self.epsilon_min = 0.1      # Minimal exploration rate (epsilon-greedy)\n",
    "        self.epsilon_decay = 0.995  # Decay rate for epsilon\n",
    "        self.update_rate = 1000     # Number of steps until updating the target network\n",
    "        \n",
    "        # Construct DQN models\n",
    "        self.model = self._build_model()\n",
    "        self.target_model = self._build_model()\n",
    "        self.target_model.set_weights(self.model.get_weights())\n",
    "        self.model.summary()\n",
    "\n",
    "    #\n",
    "    # Constructs CNN\n",
    "    #\n",
    "    def _build_model(self):\n",
    "        model = Sequential()\n",
    "        \n",
    "        # Conv Layers\n",
    "        model.add(Conv2D(32, (8, 8), strides=4, padding='same', input_shape=self.state_size))\n",
    "        model.add(Activation('relu'))\n",
    "        \n",
    "        model.add(Conv2D(64, (4, 4), strides=2, padding='same'))\n",
    "        model.add(Activation('relu'))\n",
    "        \n",
    "        model.add(Conv2D(64, (3, 3), strides=1, padding='same'))\n",
    "        model.add(Activation('relu'))\n",
    "        model.add(Flatten())\n",
    "\n",
    "        # FC Layers\n",
    "        model.add(Dense(512, activation='relu'))\n",
    "        model.add(Dense(self.action_size, activation='linear'))\n",
    "        \n",
    "        model.compile(loss='mse', optimizer=Adam())\n",
    "        return model\n",
    "\n",
    "    #\n",
    "    # Stores experience in replay memory\n",
    "    #\n",
    "    def remember(self, state, action, reward, next_state, done):\n",
    "        self.memory.append((state, action, reward, next_state, done))\n",
    "\n",
    "    #\n",
    "    # Chooses action based on epsilon-greedy policy\n",
    "    #\n",
    "    def act(self, state):\n",
    "        # Random exploration\n",
    "        if np.random.rand() <= self.epsilon:\n",
    "            return random.randrange(self.action_size)\n",
    "        \n",
    "        act_values = self.model.predict(state)\n",
    "        \n",
    "        return np.argmax(act_values[0])  # Returns action using policy\n",
    "\n",
    "    #\n",
    "    # Trains the model using randomly selected experiences in the replay memory\n",
    "    #\n",
    "    def replay(self, batch_size):\n",
    "        minibatch = random.sample(self.memory, batch_size)\n",
    "        \n",
    "        for state, action, reward, next_state, done in minibatch:\n",
    "            \n",
    "            if not done:\n",
    "                target = (reward + self.gamma * np.amax(self.target_model.predict(next_state)))\n",
    "            else:\n",
    "                target = reward\n",
    "                \n",
    "            # Construct the target vector as follows:\n",
    "            # 1. Use the current model to output the Q-value predictions\n",
    "            target_f = self.model.predict(state)\n",
    "            \n",
    "            # 2. Rewrite the chosen action value with the computed target\n",
    "            target_f[0][action] = target\n",
    "            \n",
    "            # 3. Use vectors in the objective computation\n",
    "            self.model.fit(state, target_f, epochs=1, verbose=0)\n",
    "            \n",
    "        if self.epsilon > self.epsilon_min:\n",
    "            self.epsilon *= self.epsilon_decay\n",
    "\n",
    "    #\n",
    "    # Sets the target model parameters to the current model parameters\n",
    "    #\n",
    "    def update_target_model(self):\n",
    "        self.target_model.set_weights(self.model.get_weights())\n",
    "            \n",
    "    #\n",
    "    # Loads a saved model\n",
    "    #\n",
    "    def load(self, name):\n",
    "        self.model.load_weights(name)\n",
    "\n",
    "    #\n",
    "    # Saves parameters of a trained model\n",
    "    #\n",
    "    def save(self, name):\n",
    "        self.model.save_weights(name)"
   ]
  },
  {
   "cell_type": "markdown",
   "metadata": {},
   "source": [
    "# Preprocessing"
   ]
  },
  {
   "cell_type": "code",
   "execution_count": 3,
   "metadata": {
    "collapsed": true
   },
   "outputs": [],
   "source": [
    "# Helpful preprocessing taken from github.com/ageron/tiny-dqn\n",
    "def process_frame(frame):\n",
    "    mspacman_color = np.array([210, 164, 74]).mean()\n",
    "    img = frame[1:176:2, ::2]    # Crop and downsize\n",
    "    img = img.mean(axis=2)       # Convert to greyscale\n",
    "    img[img==mspacman_color] = 0 # Improve contrast by making pacman white\n",
    "    img = (img - 128) / 128 - 1  # Normalize from -1 to 1.\n",
    "    return img.reshape(88, 80, 1)"
   ]
  },
  {
   "cell_type": "markdown",
   "metadata": {},
   "source": [
    "# Environment"
   ]
  },
  {
   "cell_type": "code",
   "execution_count": 4,
   "metadata": {},
   "outputs": [
    {
     "name": "stdout",
     "output_type": "stream",
     "text": [
      "_________________________________________________________________\n",
      "Layer (type)                 Output Shape              Param #   \n",
      "=================================================================\n",
      "conv2d_1 (Conv2D)            (None, 22, 20, 32)        2080      \n",
      "_________________________________________________________________\n",
      "activation_1 (Activation)    (None, 22, 20, 32)        0         \n",
      "_________________________________________________________________\n",
      "conv2d_2 (Conv2D)            (None, 11, 10, 64)        32832     \n",
      "_________________________________________________________________\n",
      "activation_2 (Activation)    (None, 11, 10, 64)        0         \n",
      "_________________________________________________________________\n",
      "conv2d_3 (Conv2D)            (None, 11, 10, 64)        36928     \n",
      "_________________________________________________________________\n",
      "activation_3 (Activation)    (None, 11, 10, 64)        0         \n",
      "_________________________________________________________________\n",
      "flatten_1 (Flatten)          (None, 7040)              0         \n",
      "_________________________________________________________________\n",
      "dense_1 (Dense)              (None, 512)               3604992   \n",
      "_________________________________________________________________\n",
      "dense_2 (Dense)              (None, 9)                 4617      \n",
      "=================================================================\n",
      "Total params: 3,681,449\n",
      "Trainable params: 3,681,449\n",
      "Non-trainable params: 0\n",
      "_________________________________________________________________\n"
     ]
    }
   ],
   "source": [
    "env = gym.make('MsPacman-v0')\n",
    "state_size = (88, 80, 1)\n",
    "action_size = env.action_space.n\n",
    "agent = DQN_Agent(state_size, action_size)\n",
    "\n",
    "episodes = 50\n",
    "batch_size = 8\n",
    "skip_start = 90  # MsPacman-v0 waits for 90 actions before the episode begins\n",
    "total_time = 0   # Counter for total number of steps taken\n",
    "done = False"
   ]
  },
  {
   "cell_type": "code",
   "execution_count": 5,
   "metadata": {
    "scrolled": false
   },
   "outputs": [
    {
     "name": "stdout",
     "output_type": "stream",
     "text": [
      "episode: 1/50, game score: 250.0, reward: -238.0, time: 487, total transitions: 488\n",
      "episode: 2/50, game score: 310.0, reward: -292.0, time: 601, total transitions: 1090\n",
      "episode: 3/50, game score: 320.0, reward: -137.0, time: 456, total transitions: 1547\n",
      "episode: 4/50, game score: 400.0, reward: -212.0, time: 611, total transitions: 2159\n",
      "episode: 5/50, game score: 330.0, reward: -163.0, time: 492, total transitions: 2652\n",
      "episode: 6/50, game score: 320.0, reward: -136.0, time: 455, total transitions: 3108\n",
      "episode: 7/50, game score: 270.0, reward: -257.0, time: 526, total transitions: 3635\n",
      "episode: 8/50, game score: 310.0, reward: -211.0, time: 520, total transitions: 4156\n",
      "episode: 9/50, game score: 1130.0, reward: 167.0, time: 962, total transitions: 5119\n",
      "episode: 10/50, game score: 330.0, reward: -534.0, time: 863, total transitions: 5983\n",
      "episode: 11/50, game score: 610.0, reward: -126.0, time: 735, total transitions: 6719\n",
      "episode: 12/50, game score: 440.0, reward: -168.0, time: 607, total transitions: 7327\n",
      "episode: 13/50, game score: 1400.0, reward: 83.0, time: 1316, total transitions: 8644\n",
      "episode: 14/50, game score: 330.0, reward: -145.0, time: 474, total transitions: 9119\n",
      "episode: 15/50, game score: 430.0, reward: -202.0, time: 631, total transitions: 9751\n",
      "episode: 16/50, game score: 210.0, reward: -178.0, time: 387, total transitions: 10139\n",
      "episode: 17/50, game score: 330.0, reward: -170.0, time: 499, total transitions: 10639\n",
      "episode: 18/50, game score: 250.0, reward: -237.0, time: 486, total transitions: 11126\n",
      "episode: 19/50, game score: 390.0, reward: -189.0, time: 578, total transitions: 11705\n",
      "episode: 20/50, game score: 190.0, reward: -158.0, time: 347, total transitions: 12053\n",
      "episode: 21/50, game score: 670.0, reward: -325.0, time: 994, total transitions: 13048\n",
      "episode: 22/50, game score: 630.0, reward: -157.0, time: 786, total transitions: 13835\n",
      "episode: 23/50, game score: 260.0, reward: -189.0, time: 448, total transitions: 14284\n",
      "episode: 24/50, game score: 300.0, reward: -70.0, time: 369, total transitions: 14654\n",
      "episode: 25/50, game score: 380.0, reward: -64.0, time: 443, total transitions: 15098\n",
      "episode: 26/50, game score: 950.0, reward: 66.0, time: 883, total transitions: 15982\n",
      "episode: 27/50, game score: 210.0, reward: -154.0, time: 363, total transitions: 16346\n",
      "episode: 28/50, game score: 290.0, reward: -196.0, time: 485, total transitions: 16832\n",
      "episode: 29/50, game score: 150.0, reward: -257.0, time: 406, total transitions: 17239\n",
      "episode: 30/50, game score: 380.0, reward: -107.0, time: 486, total transitions: 17726\n",
      "episode: 31/50, game score: 890.0, reward: 77.0, time: 812, total transitions: 18539\n",
      "episode: 32/50, game score: 310.0, reward: -303.0, time: 612, total transitions: 19152\n",
      "episode: 33/50, game score: 460.0, reward: -93.0, time: 552, total transitions: 19705\n",
      "episode: 34/50, game score: 900.0, reward: -515.0, time: 1414, total transitions: 21120\n",
      "episode: 35/50, game score: 180.0, reward: -167.0, time: 346, total transitions: 21467\n",
      "episode: 36/50, game score: 520.0, reward: -135.0, time: 654, total transitions: 22122\n",
      "episode: 37/50, game score: 310.0, reward: -297.0, time: 606, total transitions: 22729\n",
      "episode: 38/50, game score: 350.0, reward: -352.0, time: 701, total transitions: 23431\n",
      "episode: 39/50, game score: 810.0, reward: -87.0, time: 896, total transitions: 24328\n",
      "episode: 40/50, game score: 370.0, reward: -205.0, time: 574, total transitions: 24903\n",
      "episode: 41/50, game score: 610.0, reward: -27.0, time: 636, total transitions: 25540\n",
      "episode: 42/50, game score: 280.0, reward: -198.0, time: 477, total transitions: 26018\n",
      "episode: 43/50, game score: 490.0, reward: -144.0, time: 633, total transitions: 26652\n",
      "episode: 44/50, game score: 660.0, reward: -56.0, time: 715, total transitions: 27368\n",
      "episode: 45/50, game score: 510.0, reward: -32.0, time: 541, total transitions: 27910\n",
      "episode: 46/50, game score: 290.0, reward: -53.0, time: 342, total transitions: 28253\n",
      "episode: 47/50, game score: 390.0, reward: -172.0, time: 561, total transitions: 28815\n",
      "episode: 48/50, game score: 2250.0, reward: 1411.0, time: 838, total transitions: 29654\n",
      "episode: 49/50, game score: 60.0, reward: -169.0, time: 228, total transitions: 29883\n",
      "episode: 50/50, game score: 540.0, reward: -172.0, time: 711, total transitions: 30595\n"
     ]
    }
   ],
   "source": [
    "for e in range(episodes):\n",
    "    total_reward = 0\n",
    "    game_score = 0\n",
    "    state = process_frame(env.reset())\n",
    "    state = np.expand_dims(state, axis=0)\n",
    "    \n",
    "    for skip in range(skip_start): # skip the start of each game\n",
    "        env.step(0)\n",
    "    \n",
    "    for time in range(20000):\n",
    "        total_time += 1\n",
    "        \n",
    "        # Every update_rate timesteps we update the target network\n",
    "        if total_time % agent.update_rate == 0:\n",
    "            agent.update_target_model()\n",
    "        \n",
    "        env.render()\n",
    "        \n",
    "        # Transition Dynamics\n",
    "        action = agent.act(state)\n",
    "        next_state, reward, done, _ = env.step(action)\n",
    "        next_state = np.expand_dims(process_frame(next_state), axis=0)\n",
    "        \n",
    "        agent.remember(state, action, reward, next_state, done)\n",
    "        state = next_state\n",
    "        \n",
    "        game_score += reward\n",
    "        reward -= 1  # Punish behavior which does not accumulate reward\n",
    "        total_reward += reward\n",
    "        \n",
    "        if done:\n",
    "            print(\"episode: {}/{}, game score: {}, reward: {}, time: {}, total transitions: {}\"\n",
    "                  .format(e+1, episodes, game_score, total_reward, time, total_time))\n",
    "            break\n",
    "            \n",
    "        if len(agent.memory) > batch_size:\n",
    "            agent.replay(batch_size)"
   ]
  },
  {
   "cell_type": "code",
   "execution_count": 7,
   "metadata": {
    "collapsed": true
   },
   "outputs": [],
   "source": [
    "agent.save('2k_memory')"
   ]
  }
 ],
 "metadata": {
  "kernelspec": {
   "display_name": "Python 2",
   "language": "python",
   "name": "python2"
  },
  "language_info": {
   "codemirror_mode": {
    "name": "ipython",
    "version": 2
   },
   "file_extension": ".py",
   "mimetype": "text/x-python",
   "name": "python",
   "nbconvert_exporter": "python",
   "pygments_lexer": "ipython2",
   "version": "2.7.14"
  }
 },
 "nbformat": 4,
 "nbformat_minor": 2
}
